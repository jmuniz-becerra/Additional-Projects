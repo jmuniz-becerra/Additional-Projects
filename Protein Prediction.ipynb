{
 "cells": [
  {
   "cell_type": "code",
   "execution_count": 1,
   "id": "2d4cc01f",
   "metadata": {},
   "outputs": [],
   "source": [
    "# Import Libraries\n",
    "import pandas as pd\n",
    "import numpy as np\n",
    "from matplotlib import pyplot as plt\n",
    "import seaborn as sns\n",
    "from sklearn.feature_extraction.text import CountVectorizer\n",
    "from sklearn.model_selection import train_test_split\n",
    "from sklearn.metrics import accuracy_score, confusion_matrix, classification_report\n",
    "\n",
    "\n",
    "# Import Datasets\n",
    "df_seq = pd.read_csv('/Users/jmunizbecerra/Desktop/pdb_data_seq.csv')\n",
    "df_char = pd.read_csv('/Users/jmunizbecerra/Desktop/pdb_data_no_dups.csv')"
   ]
  },
  {
   "cell_type": "code",
   "execution_count": 2,
   "id": "f0e8ff03",
   "metadata": {},
   "outputs": [
    {
     "data": {
      "text/html": [
       "<div>\n",
       "<style scoped>\n",
       "    .dataframe tbody tr th:only-of-type {\n",
       "        vertical-align: middle;\n",
       "    }\n",
       "\n",
       "    .dataframe tbody tr th {\n",
       "        vertical-align: top;\n",
       "    }\n",
       "\n",
       "    .dataframe thead th {\n",
       "        text-align: right;\n",
       "    }\n",
       "</style>\n",
       "<table border=\"1\" class=\"dataframe\">\n",
       "  <thead>\n",
       "    <tr style=\"text-align: right;\">\n",
       "      <th></th>\n",
       "      <th>structureId</th>\n",
       "      <th>sequence</th>\n",
       "    </tr>\n",
       "  </thead>\n",
       "  <tbody>\n",
       "    <tr>\n",
       "      <th>4</th>\n",
       "      <td>101M</td>\n",
       "      <td>MVLSEGEWQLVLHVWAKVEADVAGHGQDILIRLFKSHPETLEKFDR...</td>\n",
       "    </tr>\n",
       "    <tr>\n",
       "      <th>7</th>\n",
       "      <td>102L</td>\n",
       "      <td>MNIFEMLRIDEGLRLKIYKDTEGYYTIGIGHLLTKSPSLNAAAKSE...</td>\n",
       "    </tr>\n",
       "    <tr>\n",
       "      <th>8</th>\n",
       "      <td>102M</td>\n",
       "      <td>MVLSEGEWQLVLHVWAKVEADVAGHGQDILIRLFKSHPETLEKFDR...</td>\n",
       "    </tr>\n",
       "    <tr>\n",
       "      <th>11</th>\n",
       "      <td>103L</td>\n",
       "      <td>MNIFEMLRIDEGLRLKIYKDTEGYYTIGIGHLLTKSPSLNSLDAAK...</td>\n",
       "    </tr>\n",
       "    <tr>\n",
       "      <th>12</th>\n",
       "      <td>103M</td>\n",
       "      <td>MVLSEGEWQLVLHVWAKVEADVAGHGQDILIRLFKSHPETLEKFDR...</td>\n",
       "    </tr>\n",
       "  </tbody>\n",
       "</table>\n",
       "</div>"
      ],
      "text/plain": [
       "   structureId                                           sequence\n",
       "4         101M  MVLSEGEWQLVLHVWAKVEADVAGHGQDILIRLFKSHPETLEKFDR...\n",
       "7         102L  MNIFEMLRIDEGLRLKIYKDTEGYYTIGIGHLLTKSPSLNAAAKSE...\n",
       "8         102M  MVLSEGEWQLVLHVWAKVEADVAGHGQDILIRLFKSHPETLEKFDR...\n",
       "11        103L  MNIFEMLRIDEGLRLKIYKDTEGYYTIGIGHLLTKSPSLNSLDAAK...\n",
       "12        103M  MVLSEGEWQLVLHVWAKVEADVAGHGQDILIRLFKSHPETLEKFDR..."
      ]
     },
     "execution_count": 2,
     "metadata": {},
     "output_type": "execute_result"
    }
   ],
   "source": [
    "# Filter for only proteins\n",
    "protein_char = df_char[df_char.macromoleculeType == 'Protein']\n",
    "protein_seq = df_seq[df_seq.macromoleculeType == 'Protein']\n",
    "\n",
    "# Select only necessary variables to join\n",
    "protein_char = protein_char[['structureId','classification']]\n",
    "protein_seq = protein_seq[['structureId','sequence']]\n",
    "protein_seq.head()"
   ]
  },
  {
   "cell_type": "code",
   "execution_count": 3,
   "id": "c4f0602e",
   "metadata": {},
   "outputs": [
    {
     "data": {
      "text/html": [
       "<div>\n",
       "<style scoped>\n",
       "    .dataframe tbody tr th:only-of-type {\n",
       "        vertical-align: middle;\n",
       "    }\n",
       "\n",
       "    .dataframe tbody tr th {\n",
       "        vertical-align: top;\n",
       "    }\n",
       "\n",
       "    .dataframe thead th {\n",
       "        text-align: right;\n",
       "    }\n",
       "</style>\n",
       "<table border=\"1\" class=\"dataframe\">\n",
       "  <thead>\n",
       "    <tr style=\"text-align: right;\">\n",
       "      <th></th>\n",
       "      <th>structureId</th>\n",
       "      <th>classification</th>\n",
       "    </tr>\n",
       "  </thead>\n",
       "  <tbody>\n",
       "    <tr>\n",
       "      <th>2</th>\n",
       "      <td>101M</td>\n",
       "      <td>OXYGEN TRANSPORT</td>\n",
       "    </tr>\n",
       "    <tr>\n",
       "      <th>4</th>\n",
       "      <td>102L</td>\n",
       "      <td>HYDROLASE(O-GLYCOSYL)</td>\n",
       "    </tr>\n",
       "    <tr>\n",
       "      <th>5</th>\n",
       "      <td>102M</td>\n",
       "      <td>OXYGEN TRANSPORT</td>\n",
       "    </tr>\n",
       "    <tr>\n",
       "      <th>7</th>\n",
       "      <td>103L</td>\n",
       "      <td>HYDROLASE(O-GLYCOSYL)</td>\n",
       "    </tr>\n",
       "    <tr>\n",
       "      <th>8</th>\n",
       "      <td>103M</td>\n",
       "      <td>OXYGEN TRANSPORT</td>\n",
       "    </tr>\n",
       "  </tbody>\n",
       "</table>\n",
       "</div>"
      ],
      "text/plain": [
       "  structureId         classification\n",
       "2        101M       OXYGEN TRANSPORT\n",
       "4        102L  HYDROLASE(O-GLYCOSYL)\n",
       "5        102M       OXYGEN TRANSPORT\n",
       "7        103L  HYDROLASE(O-GLYCOSYL)\n",
       "8        103M       OXYGEN TRANSPORT"
      ]
     },
     "execution_count": 3,
     "metadata": {},
     "output_type": "execute_result"
    }
   ],
   "source": [
    "# Checking classification\n",
    "protein_char.head()"
   ]
  },
  {
   "cell_type": "code",
   "execution_count": 4,
   "id": "508142bf",
   "metadata": {},
   "outputs": [
    {
     "data": {
      "text/html": [
       "<div>\n",
       "<style scoped>\n",
       "    .dataframe tbody tr th:only-of-type {\n",
       "        vertical-align: middle;\n",
       "    }\n",
       "\n",
       "    .dataframe tbody tr th {\n",
       "        vertical-align: top;\n",
       "    }\n",
       "\n",
       "    .dataframe thead th {\n",
       "        text-align: right;\n",
       "    }\n",
       "</style>\n",
       "<table border=\"1\" class=\"dataframe\">\n",
       "  <thead>\n",
       "    <tr style=\"text-align: right;\">\n",
       "      <th></th>\n",
       "      <th>classification</th>\n",
       "      <th>sequence</th>\n",
       "    </tr>\n",
       "    <tr>\n",
       "      <th>structureId</th>\n",
       "      <th></th>\n",
       "      <th></th>\n",
       "    </tr>\n",
       "  </thead>\n",
       "  <tbody>\n",
       "    <tr>\n",
       "      <th>101M</th>\n",
       "      <td>OXYGEN TRANSPORT</td>\n",
       "      <td>MVLSEGEWQLVLHVWAKVEADVAGHGQDILIRLFKSHPETLEKFDR...</td>\n",
       "    </tr>\n",
       "    <tr>\n",
       "      <th>102L</th>\n",
       "      <td>HYDROLASE(O-GLYCOSYL)</td>\n",
       "      <td>MNIFEMLRIDEGLRLKIYKDTEGYYTIGIGHLLTKSPSLNAAAKSE...</td>\n",
       "    </tr>\n",
       "    <tr>\n",
       "      <th>102M</th>\n",
       "      <td>OXYGEN TRANSPORT</td>\n",
       "      <td>MVLSEGEWQLVLHVWAKVEADVAGHGQDILIRLFKSHPETLEKFDR...</td>\n",
       "    </tr>\n",
       "    <tr>\n",
       "      <th>103L</th>\n",
       "      <td>HYDROLASE(O-GLYCOSYL)</td>\n",
       "      <td>MNIFEMLRIDEGLRLKIYKDTEGYYTIGIGHLLTKSPSLNSLDAAK...</td>\n",
       "    </tr>\n",
       "    <tr>\n",
       "      <th>103M</th>\n",
       "      <td>OXYGEN TRANSPORT</td>\n",
       "      <td>MVLSEGEWQLVLHVWAKVEADVAGHGQDILIRLFKSHPETLEKFDR...</td>\n",
       "    </tr>\n",
       "  </tbody>\n",
       "</table>\n",
       "</div>"
      ],
      "text/plain": [
       "                    classification  \\\n",
       "structureId                          \n",
       "101M              OXYGEN TRANSPORT   \n",
       "102L         HYDROLASE(O-GLYCOSYL)   \n",
       "102M              OXYGEN TRANSPORT   \n",
       "103L         HYDROLASE(O-GLYCOSYL)   \n",
       "103M              OXYGEN TRANSPORT   \n",
       "\n",
       "                                                      sequence  \n",
       "structureId                                                     \n",
       "101M         MVLSEGEWQLVLHVWAKVEADVAGHGQDILIRLFKSHPETLEKFDR...  \n",
       "102L         MNIFEMLRIDEGLRLKIYKDTEGYYTIGIGHLLTKSPSLNAAAKSE...  \n",
       "102M         MVLSEGEWQLVLHVWAKVEADVAGHGQDILIRLFKSHPETLEKFDR...  \n",
       "103L         MNIFEMLRIDEGLRLKIYKDTEGYYTIGIGHLLTKSPSLNSLDAAK...  \n",
       "103M         MVLSEGEWQLVLHVWAKVEADVAGHGQDILIRLFKSHPETLEKFDR...  "
      ]
     },
     "execution_count": 4,
     "metadata": {},
     "output_type": "execute_result"
    }
   ],
   "source": [
    "# Join two datasets on structureId\n",
    "model_f = protein_char.set_index('structureId').join(protein_seq.set_index('structureId'))\n",
    "model_f.head()"
   ]
  },
  {
   "cell_type": "code",
   "execution_count": 6,
   "id": "9eed360d",
   "metadata": {},
   "outputs": [
    {
     "data": {
      "text/plain": [
       "classification    1\n",
       "sequence          3\n",
       "dtype: int64"
      ]
     },
     "execution_count": 6,
     "metadata": {},
     "output_type": "execute_result"
    }
   ],
   "source": [
    "# Checking for any NA values\n",
    "model_f.isnull().sum()"
   ]
  },
  {
   "cell_type": "code",
   "execution_count": 7,
   "id": "81c3c122",
   "metadata": {},
   "outputs": [],
   "source": [
    "# Dropping missing values\n",
    "model_f = model_f.dropna()"
   ]
  },
  {
   "cell_type": "code",
   "execution_count": 10,
   "id": "fe5cf00d",
   "metadata": {},
   "outputs": [
    {
     "data": {
      "text/plain": [
       "HYDROLASE                            46336\n",
       "TRANSFERASE                          36424\n",
       "OXIDOREDUCTASE                       34321\n",
       "IMMUNE SYSTEM                        15615\n",
       "LYASE                                11682\n",
       "                                     ...  \n",
       "STRUCTURAL PROTEIN, CELL CYCLE           1\n",
       "KINASE (GLYCOGEN METABOLISM)             1\n",
       "SURFACE GLYCOPROTEIN                     1\n",
       "IMMUNE SYSTEM,HYDROLASE INHIBITOR        1\n",
       "antimicrobial                            1\n",
       "Name: classification, Length: 4468, dtype: int64"
      ]
     },
     "execution_count": 10,
     "metadata": {},
     "output_type": "execute_result"
    }
   ],
   "source": [
    "# Finding number of each class of protein\n",
    "counts = model_f.classification.value_counts()\n",
    "counts"
   ]
  },
  {
   "cell_type": "code",
   "execution_count": 13,
   "id": "5ad06874",
   "metadata": {},
   "outputs": [
    {
     "name": "stdout",
     "output_type": "stream",
     "text": [
      "['HYDROLASE' 'TRANSFERASE' 'OXIDOREDUCTASE' 'IMMUNE SYSTEM' 'LYASE'\n",
      " 'HYDROLASE/HYDROLASE INHIBITOR' 'TRANSCRIPTION' 'VIRAL PROTEIN'\n",
      " 'TRANSPORT PROTEIN' 'VIRUS' 'SIGNALING PROTEIN' 'ISOMERASE' 'LIGASE'\n",
      " 'MEMBRANE PROTEIN' 'PROTEIN BINDING' 'STRUCTURAL PROTEIN' 'CHAPERONE'\n",
      " 'STRUCTURAL GENOMICS, UNKNOWN FUNCTION' 'SUGAR BINDING PROTEIN'\n",
      " 'DNA BINDING PROTEIN' 'PHOTOSYNTHESIS' 'ELECTRON TRANSPORT'\n",
      " 'TRANSFERASE/TRANSFERASE INHIBITOR' 'METAL BINDING PROTEIN'\n",
      " 'CELL ADHESION' 'UNKNOWN FUNCTION' 'PROTEIN TRANSPORT' 'TOXIN'\n",
      " 'CELL CYCLE' 'RNA BINDING PROTEIN' 'DE NOVO PROTEIN' 'HORMONE'\n",
      " 'GENE REGULATION' 'OXIDOREDUCTASE/OXIDOREDUCTASE INHIBITOR' 'APOPTOSIS'\n",
      " 'MOTOR PROTEIN' 'PROTEIN FIBRIL' 'METAL TRANSPORT'\n",
      " 'VIRAL PROTEIN/IMMUNE SYSTEM' 'CONTRACTILE PROTEIN' 'FLUORESCENT PROTEIN'\n",
      " 'TRANSLATION' 'BIOSYNTHETIC PROTEIN']\n"
     ]
    }
   ],
   "source": [
    "# Identifying classes with over 1000 for machine learning model\n",
    "\n",
    "# Get classification types where counts are over 1000\n",
    "types = np.asarray(counts[(counts > 1000)].index)\n",
    "\n",
    "# Filter dataset's records for classification types > 1000\n",
    "data = model_f[model_f.classification.isin(types)]\n",
    "\n",
    "print(types)"
   ]
  },
  {
   "cell_type": "code",
   "execution_count": 14,
   "id": "9c6f5ecb",
   "metadata": {},
   "outputs": [],
   "source": [
    "# Split Data\n",
    "X_train, X_test,y_train,y_test = train_test_split(data['sequence'], data['classification'], test_size = 0.2, random_state = 1)\n",
    "\n",
    "# Create a Count Vectorizer to gather the unique elements in sequence\n",
    "vect = CountVectorizer(analyzer = 'char_wb', ngram_range = (4,4))\n",
    "\n",
    "# Fit and Transform CountVectorizer\n",
    "vect.fit(X_train)\n",
    "X_train_df = vect.transform(X_train)\n",
    "X_test_df = vect.transform(X_test)"
   ]
  },
  {
   "cell_type": "code",
   "execution_count": 16,
   "id": "4feb852e",
   "metadata": {},
   "outputs": [
    {
     "name": "stdout",
     "output_type": "stream",
     "text": [
      "0.7638505396779861\n"
     ]
    }
   ],
   "source": [
    "# Naive Bayes Model\n",
    "\n",
    "prediction = dict()\n",
    "\n",
    "from sklearn.naive_bayes import MultinomialNB\n",
    "model = MultinomialNB()\n",
    "model.fit(X_train_df, y_train)\n",
    "NB_pred = model.predict(X_test_df)\n",
    "prediction[\"MultinomialNB\"] = accuracy_score(NB_pred, y_test)\n",
    "print( prediction['MultinomialNB'])"
   ]
  },
  {
   "cell_type": "code",
   "execution_count": 18,
   "id": "329a9dbf",
   "metadata": {
    "scrolled": true
   },
   "outputs": [
    {
     "data": {
      "text/plain": [
       "<AxesSubplot:>"
      ]
     },
     "execution_count": 18,
     "metadata": {},
     "output_type": "execute_result"
    },
    {
     "data": {
      "image/png": "[encoded data removed]",
      "text/plain": [
       "<Figure size 936x576 with 2 Axes>"
      ]
     },
     "metadata": {
      "needs_background": "light"
     },
     "output_type": "display_data"
    }
   ],
   "source": [
    "# Plot confusion matrix\n",
    "conf_mat = confusion_matrix(y_test, NB_pred, labels = types)\n",
    "\n",
    "#Normalize confusion_matrix\n",
    "conf_mat = conf_mat.astype('float')/ conf_mat.sum(axis=1)[:, np.newaxis]\n",
    "\n",
    "# Plot Heat Map\n",
    "fig , ax = plt.subplots()\n",
    "fig.set_size_inches(13, 8)\n",
    "sns.heatmap(conf_mat)"
   ]
  },
  {
   "cell_type": "code",
   "execution_count": 19,
   "id": "14e966f5",
   "metadata": {},
   "outputs": [
    {
     "name": "stdout",
     "output_type": "stream",
     "text": [
      "                                         precision    recall  f1-score   support\n",
      "\n",
      "                              HYDROLASE       0.47      0.74      0.57       250\n",
      "                            TRANSFERASE       0.60      0.82      0.70       211\n",
      "                         OXIDOREDUCTASE       0.75      0.77      0.76       589\n",
      "                          IMMUNE SYSTEM       0.66      0.72      0.69       509\n",
      "                                  LYASE       0.91      0.76      0.83       859\n",
      "          HYDROLASE/HYDROLASE INHIBITOR       0.66      0.88      0.76       224\n",
      "                          TRANSCRIPTION       0.58      0.83      0.68       326\n",
      "                          VIRAL PROTEIN       0.71      0.78      0.75       622\n",
      "                      TRANSPORT PROTEIN       0.60      0.74      0.66       601\n",
      "                                  VIRUS       0.91      0.97      0.94       209\n",
      "                      SIGNALING PROTEIN       0.71      0.73      0.72       309\n",
      "                              ISOMERASE       0.49      0.96      0.65       293\n",
      "                                 LIGASE       0.77      0.78      0.77      9274\n",
      "                       MEMBRANE PROTEIN       0.67      0.76      0.71      2228\n",
      "                        PROTEIN BINDING       0.87      0.76      0.82      3204\n",
      "                     STRUCTURAL PROTEIN       0.94      0.86      0.90      1312\n",
      "                              CHAPERONE       0.87      0.80      0.84       963\n",
      "  STRUCTURAL GENOMICS, UNKNOWN FUNCTION       0.94      0.87      0.90      2324\n",
      "                  SUGAR BINDING PROTEIN       0.68      0.66      0.67       991\n",
      "                    DNA BINDING PROTEIN       0.70      0.72      0.71       607\n",
      "                         PHOTOSYNTHESIS       0.62      0.78      0.69       237\n",
      "                     ELECTRON TRANSPORT       0.52      0.59      0.55       251\n",
      "      TRANSFERASE/TRANSFERASE INHIBITOR       0.93      0.79      0.85      6895\n",
      "                  METAL BINDING PROTEIN       0.37      0.91      0.53       308\n",
      "                          CELL ADHESION       0.81      0.87      0.84       686\n",
      "                       UNKNOWN FUNCTION       0.53      0.59      0.56       953\n",
      "                      PROTEIN TRANSPORT       0.81      0.94      0.87       269\n",
      "                                  TOXIN       0.73      0.70      0.71       526\n",
      "                             CELL CYCLE       0.64      0.81      0.72       396\n",
      "                    RNA BINDING PROTEIN       0.76      0.62      0.68      1284\n",
      "                        DE NOVO PROTEIN       0.48      0.76      0.59       710\n",
      "                                HORMONE       0.86      0.57      0.69       884\n",
      "                        GENE REGULATION       0.84      0.89      0.86       690\n",
      "OXIDOREDUCTASE/OXIDOREDUCTASE INHIBITOR       0.79      0.81      0.80       541\n",
      "                              APOPTOSIS       0.81      0.70      0.75      1652\n",
      "                          MOTOR PROTEIN       0.78      0.77      0.77      7262\n",
      "                         PROTEIN FIBRIL       0.35      0.83      0.49       614\n",
      "                        METAL TRANSPORT       0.69      0.79      0.73       209\n",
      "            VIRAL PROTEIN/IMMUNE SYSTEM       0.82      0.59      0.69      1641\n",
      "                    CONTRACTILE PROTEIN       0.73      0.73      0.73       583\n",
      "                    FLUORESCENT PROTEIN       0.86      0.66      0.74      1703\n",
      "                            TRANSLATION       0.41      0.54      0.46       224\n",
      "                   BIOSYNTHETIC PROTEIN       0.87      0.86      0.86      1351\n",
      "\n",
      "                               accuracy                           0.76     55774\n",
      "                              macro avg       0.71      0.77      0.73     55774\n",
      "                           weighted avg       0.79      0.76      0.77     55774\n",
      "\n"
     ]
    }
   ],
   "source": [
    "#Print F1 score metrics\n",
    "print(classification_report(y_test, NB_pred, target_names = types))"
   ]
  },
  {
   "cell_type": "code",
   "execution_count": null,
   "id": "1e4a09b6",
   "metadata": {},
   "outputs": [],
   "source": []
  }
 ],
 "metadata": {
  "kernelspec": {
   "display_name": "Python 3 (ipykernel)",
   "language": "python",
   "name": "python3"
  },
  "language_info": {
   "codemirror_mode": {
    "name": "ipython",
    "version": 3
   },
   "file_extension": ".py",
   "mimetype": "text/x-python",
   "name": "python",
   "nbconvert_exporter": "python",
   "pygments_lexer": "ipython3",
   "version": "3.10.4"
  }
 },
 "nbformat": 4,
 "nbformat_minor": 5
}
